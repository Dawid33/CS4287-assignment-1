{
 "cells": [
  {
   "cell_type": "markdown",
   "id": "d5bff97f",
   "metadata": {},
   "source": [
    "\n",
    "### CS4287 Assignment 1\n",
    "YR 4 SEM 1 2023\n",
    "-\n",
    "Dawid Sobczak: 20273118\n",
    "\n",
    "Imelda Butler: 20259344"
   ]
  },
  {
   "cell_type": "markdown",
   "id": "e4faddd5",
   "metadata": {},
   "source": [
    "Can the code execute to the end without error? **Y**"
   ]
  },
  {
   "cell_type": "code",
   "execution_count": 4,
   "id": "922af219",
   "metadata": {},
   "outputs": [],
   "source": [
    "#Perceptron Algorithm on Shannon Weather\n",
    "from sklearn.neural_network import MLPClassifier\n",
    "from sklearn.datasets import make_classification\n",
    "from sklearn.model_selection import train_test_split, KFold, cross_val_score\n",
    "from sklearn.preprocessing import MinMaxScaler\n",
    "from sklearn.linear_model import LinearRegression\n",
    "from numpy import mean, std\n",
    "import pandas as pd\n",
    "# library written for python for data manipulation\n",
    "import csv"
   ]
  },
  {
   "cell_type": "code",
   "execution_count": 5,
   "id": "6f9b3993",
   "metadata": {},
   "outputs": [
    {
     "ename": "FileNotFoundError",
     "evalue": "[Errno 2] No such file or directory: './shannon airport daily data.csv'",
     "output_type": "error",
     "traceback": [
      "\u001b[1;31m---------------------------------------------------------------------------\u001b[0m",
      "\u001b[1;31mFileNotFoundError\u001b[0m                         Traceback (most recent call last)",
      "\u001b[1;32mc:\\Users\\Imelda\\Documents\\GitHub\\CS4287-assignment-1\\CS4287-Prj1-20273118-20259344\\CS4287-Prj1-20273118-20259344.ipynb Cell 4\u001b[0m line \u001b[0;36m3\n\u001b[0;32m     <a href='vscode-notebook-cell:/c%3A/Users/Imelda/Documents/GitHub/CS4287-assignment-1/CS4287-Prj1-20273118-20259344/CS4287-Prj1-20273118-20259344.ipynb#W3sZmlsZQ%3D%3D?line=30'>31</a>\u001b[0m         \u001b[39mself\u001b[39m\u001b[39m.\u001b[39mX[\u001b[39mself\u001b[39m\u001b[39m.\u001b[39mcols] \u001b[39m=\u001b[39m scaler\u001b[39m.\u001b[39mfit_transform(\u001b[39mself\u001b[39m\u001b[39m.\u001b[39mX[\u001b[39mself\u001b[39m\u001b[39m.\u001b[39mcols])\n\u001b[0;32m     <a href='vscode-notebook-cell:/c%3A/Users/Imelda/Documents/GitHub/CS4287-assignment-1/CS4287-Prj1-20273118-20259344/CS4287-Prj1-20273118-20259344.ipynb#W3sZmlsZQ%3D%3D?line=32'>33</a>\u001b[0m         \u001b[39m# Creating instance of dataset class \u001b[39;00m\n\u001b[1;32m---> <a href='vscode-notebook-cell:/c%3A/Users/Imelda/Documents/GitHub/CS4287-assignment-1/CS4287-Prj1-20273118-20259344/CS4287-Prj1-20273118-20259344.ipynb#W3sZmlsZQ%3D%3D?line=33'>34</a>\u001b[0m data \u001b[39m=\u001b[39m Dataset()\n\u001b[0;32m     <a href='vscode-notebook-cell:/c%3A/Users/Imelda/Documents/GitHub/CS4287-assignment-1/CS4287-Prj1-20273118-20259344/CS4287-Prj1-20273118-20259344.ipynb#W3sZmlsZQ%3D%3D?line=34'>35</a>\u001b[0m data\u001b[39m.\u001b[39mprint()\n",
      "\u001b[1;32mc:\\Users\\Imelda\\Documents\\GitHub\\CS4287-assignment-1\\CS4287-Prj1-20273118-20259344\\CS4287-Prj1-20273118-20259344.ipynb Cell 4\u001b[0m line \u001b[0;36m7\n\u001b[0;32m      <a href='vscode-notebook-cell:/c%3A/Users/Imelda/Documents/GitHub/CS4287-assignment-1/CS4287-Prj1-20273118-20259344/CS4287-Prj1-20273118-20259344.ipynb#W3sZmlsZQ%3D%3D?line=1'>2</a>\u001b[0m \u001b[39mdef\u001b[39;00m \u001b[39m__init__\u001b[39m(\u001b[39mself\u001b[39m):\n\u001b[0;32m      <a href='vscode-notebook-cell:/c%3A/Users/Imelda/Documents/GitHub/CS4287-assignment-1/CS4287-Prj1-20273118-20259344/CS4287-Prj1-20273118-20259344.ipynb#W3sZmlsZQ%3D%3D?line=2'>3</a>\u001b[0m     \u001b[39m# Import the dataset from a csv file and create a new column\u001b[39;00m\n\u001b[0;32m      <a href='vscode-notebook-cell:/c%3A/Users/Imelda/Documents/GitHub/CS4287-assignment-1/CS4287-Prj1-20273118-20259344/CS4287-Prj1-20273118-20259344.ipynb#W3sZmlsZQ%3D%3D?line=3'>4</a>\u001b[0m     \u001b[39m# where each row signifies whether it did or did not rain on each day.\u001b[39;00m\n\u001b[0;32m      <a href='vscode-notebook-cell:/c%3A/Users/Imelda/Documents/GitHub/CS4287-assignment-1/CS4287-Prj1-20273118-20259344/CS4287-Prj1-20273118-20259344.ipynb#W3sZmlsZQ%3D%3D?line=4'>5</a>\u001b[0m     \u001b[39m# This column will be the value our model is trying to predict\u001b[39;00m\n\u001b[0;32m      <a href='vscode-notebook-cell:/c%3A/Users/Imelda/Documents/GitHub/CS4287-assignment-1/CS4287-Prj1-20273118-20259344/CS4287-Prj1-20273118-20259344.ipynb#W3sZmlsZQ%3D%3D?line=5'>6</a>\u001b[0m     \u001b[39m# (whether it did or did not rain on a particular day.)\u001b[39;00m\n\u001b[1;32m----> <a href='vscode-notebook-cell:/c%3A/Users/Imelda/Documents/GitHub/CS4287-assignment-1/CS4287-Prj1-20273118-20259344/CS4287-Prj1-20273118-20259344.ipynb#W3sZmlsZQ%3D%3D?line=6'>7</a>\u001b[0m     \u001b[39mwith\u001b[39;00m \u001b[39mopen\u001b[39;49m(\u001b[39m'\u001b[39;49m\u001b[39m./shannon airport daily data.csv\u001b[39;49m\u001b[39m'\u001b[39;49m, newline\u001b[39m=\u001b[39;49m\u001b[39m'\u001b[39;49m\u001b[39m'\u001b[39;49m) \u001b[39mas\u001b[39;00m csvfile:\n\u001b[0;32m      <a href='vscode-notebook-cell:/c%3A/Users/Imelda/Documents/GitHub/CS4287-assignment-1/CS4287-Prj1-20273118-20259344/CS4287-Prj1-20273118-20259344.ipynb#W3sZmlsZQ%3D%3D?line=7'>8</a>\u001b[0m         reader \u001b[39m=\u001b[39m csv\u001b[39m.\u001b[39mDictReader(csvfile, delimiter\u001b[39m=\u001b[39m\u001b[39m'\u001b[39m\u001b[39m,\u001b[39m\u001b[39m'\u001b[39m)\n\u001b[0;32m      <a href='vscode-notebook-cell:/c%3A/Users/Imelda/Documents/GitHub/CS4287-assignment-1/CS4287-Prj1-20273118-20259344/CS4287-Prj1-20273118-20259344.ipynb#W3sZmlsZQ%3D%3D?line=8'>9</a>\u001b[0m         data\u001b[39m=\u001b[39m []\n",
      "File \u001b[1;32m~\\AppData\\Local\\Packages\\PythonSoftwareFoundation.Python.3.9_qbz5n2kfra8p0\\LocalCache\\local-packages\\Python39\\site-packages\\IPython\\core\\interactiveshell.py:286\u001b[0m, in \u001b[0;36m_modified_open\u001b[1;34m(file, *args, **kwargs)\u001b[0m\n\u001b[0;32m    279\u001b[0m \u001b[39mif\u001b[39;00m file \u001b[39min\u001b[39;00m {\u001b[39m0\u001b[39m, \u001b[39m1\u001b[39m, \u001b[39m2\u001b[39m}:\n\u001b[0;32m    280\u001b[0m     \u001b[39mraise\u001b[39;00m \u001b[39mValueError\u001b[39;00m(\n\u001b[0;32m    281\u001b[0m         \u001b[39mf\u001b[39m\u001b[39m\"\u001b[39m\u001b[39mIPython won\u001b[39m\u001b[39m'\u001b[39m\u001b[39mt let you open fd=\u001b[39m\u001b[39m{\u001b[39;00mfile\u001b[39m}\u001b[39;00m\u001b[39m by default \u001b[39m\u001b[39m\"\u001b[39m\n\u001b[0;32m    282\u001b[0m         \u001b[39m\"\u001b[39m\u001b[39mas it is likely to crash IPython. If you know what you are doing, \u001b[39m\u001b[39m\"\u001b[39m\n\u001b[0;32m    283\u001b[0m         \u001b[39m\"\u001b[39m\u001b[39myou can use builtins\u001b[39m\u001b[39m'\u001b[39m\u001b[39m open.\u001b[39m\u001b[39m\"\u001b[39m\n\u001b[0;32m    284\u001b[0m     )\n\u001b[1;32m--> 286\u001b[0m \u001b[39mreturn\u001b[39;00m io_open(file, \u001b[39m*\u001b[39margs, \u001b[39m*\u001b[39m\u001b[39m*\u001b[39mkwargs)\n",
      "\u001b[1;31mFileNotFoundError\u001b[0m: [Errno 2] No such file or directory: './shannon airport daily data.csv'"
     ]
    }
   ],
   "source": [
    "class Dataset:\n",
    "    def __init__(self):\n",
    "        # Import the dataset from a csv file and create a new column\n",
    "        # where each row signifies whether it did or did not rain on each day.\n",
    "        # This column will be the value our model is trying to predict\n",
    "        # (whether it did or did not rain on a particular day.)\n",
    "        with open('../shannon airport daily data.csv', newline='') as csvfile:\n",
    "            reader = csv.DictReader(csvfile, delimiter=',')\n",
    "            data= []\n",
    "            self.y = []\n",
    "            # Checks if it rained or not\n",
    "            for row in reader:\n",
    "                if float(row[\"rain\"]) > 0:\n",
    "                    self.y.append(True);\n",
    "                else:\n",
    "                    self.y.append(False);\n",
    "                data.append(row)\n",
    "        self.cols = ['sun', 'mean_cbl_pressure', 'min_air_temp', 'mean_wind_speed']\n",
    "        self.raw = pd.DataFrame(data)\n",
    "        self.X = pd.DataFrame(data)[self.cols]\n",
    "        #preprocessing\n",
    "        self.normalize()\n",
    "\n",
    "    def print(self):\n",
    "        print(self.X)\n",
    "        print(self.y[0:5])\n",
    "\n",
    "    def normalize(self):            \n",
    "        # Normalize all the predictors to be between 0 and 1\n",
    "        scaler = MinMaxScaler()\n",
    "        self.X[self.cols] = scaler.fit_transform(self.X[self.cols])\n",
    "\n",
    "        # Creating instance of dataset class \n",
    "data = Dataset()\n",
    "data.print()\n"
   ]
  },
  {
   "cell_type": "code",
   "execution_count": null,
   "id": "d8ff0969",
   "metadata": {},
   "outputs": [],
   "source": [
    "# Split the dataset into two parts, one part for training and the other for validating / evaluating the model. #\n",
    "X_train, X_test, y_train, y_test = train_test_split(data.X, data.y, stratify=data.y, random_state=1)"
   ]
  },
  {
   "cell_type": "code",
   "execution_count": null,
   "id": "268e1b2f",
   "metadata": {},
   "outputs": [],
   "source": [
    "# Optimiser is 'adam'  Training classifier #\n",
    "clf = MLPClassifier(random_state=1, solver='adam', max_iter=3000, hidden_layer_sizes=[100,]).fit(X_train, y_train)\n",
    "prob = clf.predict_proba(X_test[:1])\n",
    "\n",
    "\n",
    "# Loss values\n",
    "training_losses = []\n",
    "\n",
    "for epoch in range(100):\n",
    "    clf.partial_fit(X_train, y_train, classes=[False, True])\n",
    "    loss = clf.loss_\n",
    "    training_losses.append(loss)\n",
    "\n",
    "# Making predictions\n",
    "predict = clf.predict(X_test)\n",
    "score = clf.score(X_test, y_test)\n",
    "\n",
    "# Print model results\n",
    "print(f\"Probability {prob}\")\n",
    "print(f\"Predictions {predict}\")\n",
    "print(f\"Score {score}\")"
   ]
  },
  {
   "cell_type": "code",
   "execution_count": null,
   "id": "2a479407",
   "metadata": {},
   "outputs": [],
   "source": [
    "# Cross fold validation\n",
    "print(f\"\\nCross Fold Validation\")\n",
    "cv = KFold(n_splits=5, shuffle=True, random_state=1)\n",
    "scores = cross_val_score(clf, X_test, predict, scoring='accuracy', cv=cv, n_jobs=-1)\n",
    "print('Accuracy: %.3f (%.3f)' % (mean(scores), std(scores)))"
   ]
  },
  {
   "cell_type": "code",
   "execution_count": null,
   "id": "6c1900c8",
   "metadata": {},
   "outputs": [],
   "source": [
    "# Draw Graph #\n",
    "import matplotlib.pyplot as plt\n",
    "data.raw[['rain', 'sun']] = data.raw[['rain', 'sun']].apply(pd.to_numeric)\n",
    "sun = data.raw['sun'].values.reshape(-1,1)\n",
    "rain = data.raw['rain'].values.reshape(-1,1)\n",
    "\n",
    "reg = LinearRegression().fit(sun, rain)\n",
    "\n",
    "plt.plot(data.raw[['sun']], data.raw[['rain']], 'o')\n",
    "plt.plot(data.raw['sun'], reg.predict(sun),color=\"red\",linewidth=3)\n",
    "plt.xlabel('sunlight per day')\n",
    "plt.ylabel('rain per day')\n",
    "plt.show()\n"
   ]
  },
  {
   "cell_type": "code",
   "execution_count": null,
   "id": "86252205",
   "metadata": {},
   "outputs": [],
   "source": [
    "# Plotting accuracy graph\n",
    "plt.figure(figsize=(8, 6)) \n",
    "\n",
    "plt.plot(range(1, 6), scores, marker='o', linestyle='-', color='red')\n",
    "plt.title('Cross-Validation Accuracy')\n",
    "plt.xlabel('Fold')\n",
    "plt.ylabel('Accuracy')\n",
    "plt.grid(True)\n",
    "\n",
    "plt.show()"
   ]
  },
  {
   "cell_type": "code",
   "execution_count": null,
   "id": "a7871811",
   "metadata": {},
   "outputs": [],
   "source": [
    "# Plotting  loss graph\n",
    "plt.figure(figsize=(8, 6)) \n",
    "\n",
    "plt.plot(range(1, 101), training_losses, color='b')\n",
    "plt.title('Training Loss')\n",
    "plt.xlabel('Epoch')\n",
    "plt.ylabel('Loss')\n",
    "plt.grid(True)\n",
    "\n",
    "plt.show()"
   ]
  }
 ],
 "metadata": {
  "kernelspec": {
   "display_name": "Python 3 (ipykernel)",
   "language": "python",
   "name": "python3"
  },
  "language_info": {
   "codemirror_mode": {
    "name": "ipython",
    "version": 3
   },
   "file_extension": ".py",
   "mimetype": "text/x-python",
   "name": "python",
   "nbconvert_exporter": "python",
   "pygments_lexer": "ipython3",
   "version": "3.9.13"
  }
 },
 "nbformat": 4,
 "nbformat_minor": 5
}
