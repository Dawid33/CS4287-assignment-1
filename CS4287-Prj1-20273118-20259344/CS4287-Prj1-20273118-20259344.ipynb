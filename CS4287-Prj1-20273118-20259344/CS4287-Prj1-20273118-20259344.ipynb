{
 "cells": [
  {
   "cell_type": "code",
   "execution_count": null,
   "id": "d5bff97f",
   "metadata": {},
   "outputs": [],
   "source": [
    "\"\"\"\n",
    "CS4287 Assignment 1\n",
    "YR 4 SEM 1 2023\n",
    "-\n",
    "Dawid Sobczak: 20273118\n",
    "Imelda Butler: 20259344\n",
    "-\n",
    "Can the code execute to the end without error? Y/N\n",
    "\"\"\"\n"
   ]
  }
 ],
 "metadata": {
  "kernelspec": {
   "display_name": "Python 3 (ipykernel)",
   "language": "python",
   "name": "python3"
  },
  "language_info": {
   "codemirror_mode": {
    "name": "ipython",
    "version": 3
   },
   "file_extension": ".py",
   "mimetype": "text/x-python",
   "name": "python",
   "nbconvert_exporter": "python",
   "pygments_lexer": "ipython3",
   "version": "3.10.12"
  }
 },
 "nbformat": 4,
 "nbformat_minor": 5
}
